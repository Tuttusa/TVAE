{
 "cells": [
  {
   "cell_type": "markdown",
   "source": [
    "# Testing the VAE"
   ],
   "metadata": {
    "collapsed": false
   }
  },
  {
   "cell_type": "code",
   "execution_count": null,
   "outputs": [],
   "source": [
    "def adult_dataset():\n",
    "    path = untar_data(URLs.ADULT_SAMPLE)\n",
    "    df = pd.read_csv(path / 'adult.csv')\n",
    "\n",
    "    cat_names = ['workclass', 'education', 'marital-status', 'occupation', 'relationship', 'race', 'sex',\n",
    "                 'native-country']\n",
    "    cont_names = ['age', 'education-num', 'capital-loss', 'capital-gain', 'hours-per-week']\n",
    "\n",
    "    all_cols = cat_names + cont_names\n",
    "\n",
    "    t = ['age', 'race']\n",
    "\n",
    "    if 'fnlwgt' in df.columns:\n",
    "        df = df.drop(columns='fnlwgt')\n",
    "\n",
    "    t_df = df[[c for c in all_cols if c in t]]\n",
    "    t_cat_cols = [c for c in cat_names if c in t]\n",
    "    t_cont_cols = [c for c in cont_names if c in t]\n",
    "\n",
    "    x_df = df[[c for c in all_cols if c not in t]]\n",
    "    x_cat_cols = [c for c in cat_names if c not in t]\n",
    "    x_cont_cols = [c for c in cont_names if c not in t]\n",
    "\n",
    "    return t_df, t_cat_cols, t_cont_cols, x_df, x_cat_cols, x_cont_cols, df, cat_names, cont_names, all_cols\n",
    "\n",
    "\n",
    "t_df, t_cat_cols, t_cont_cols, x_df, x_cat_cols, x_cont_cols, df, cat_names, cont_names, all_cols = adult_dataset()"
   ],
   "metadata": {
    "collapsed": false,
    "pycharm": {
     "is_executing": true
    }
   }
  },
  {
   "cell_type": "code",
   "execution_count": null,
   "outputs": [],
   "source": [],
   "metadata": {
    "collapsed": false
   }
  }
 ],
 "metadata": {
  "kernelspec": {
   "display_name": "Python 3",
   "language": "python",
   "name": "python3"
  },
  "language_info": {
   "codemirror_mode": {
    "name": "ipython",
    "version": 2
   },
   "file_extension": ".py",
   "mimetype": "text/x-python",
   "name": "python",
   "nbconvert_exporter": "python",
   "pygments_lexer": "ipython2",
   "version": "2.7.6"
  }
 },
 "nbformat": 4,
 "nbformat_minor": 0
}
