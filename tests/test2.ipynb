{
 "cells": [
  {
   "cell_type": "code",
   "execution_count": 1,
   "metadata": {},
   "outputs": [],
   "source": [
    "from fastai.data.external import untar_data, URLs\n",
    "import pandas as pd\n",
    "\n",
    "from tvae.optim import Optim\n",
    "\n",
    "\n",
    "def adult_dataset():\n",
    "    path = untar_data(URLs.ADULT_SAMPLE)\n",
    "    df = pd.read_csv(path / 'adult.csv')\n",
    "\n",
    "    cat_names = ['workclass', 'education', 'marital-status', 'occupation', 'relationship', 'race', 'sex',\n",
    "                 'native-country']\n",
    "    cont_names = ['age', 'education-num', 'capital-loss', 'capital-gain', 'hours-per-week']\n",
    "\n",
    "    all_cols = cat_names + cont_names\n",
    "\n",
    "    t = ['age', 'race']\n",
    "\n",
    "    if 'fnlwgt' in df.columns:\n",
    "        df = df.drop(columns='fnlwgt')\n",
    "\n",
    "    t_df = df[[c for c in all_cols if c in t]]\n",
    "    t_cat_cols = [c for c in cat_names if c in t]\n",
    "    t_cont_cols = [c for c in cont_names if c in t]\n",
    "\n",
    "    x_df = df[[c for c in all_cols if c not in t]]\n",
    "    x_cat_cols = [c for c in cat_names if c not in t]\n",
    "    x_cont_cols = [c for c in cont_names if c not in t]\n",
    "\n",
    "    return t_df, t_cat_cols, t_cont_cols, x_df, x_cat_cols, x_cont_cols, df, cat_names, cont_names, all_cols\n",
    "\n",
    "\n",
    "t_df, t_cat_cols, t_cont_cols, x_df, x_cat_cols, x_cont_cols, df, cat_names, cont_names, all_cols = adult_dataset()"
   ]
  },
  {
   "cell_type": "code",
   "execution_count": 2,
   "metadata": {},
   "outputs": [],
   "source": [
    "from tvae.model import TVAE, VAEConfig\n",
    "\n",
    "config = VAEConfig()"
   ]
  },
  {
   "cell_type": "code",
   "execution_count": 3,
   "metadata": {},
   "outputs": [
    {
     "ename": "ValueError",
     "evalue": "too many values to unpack (expected 5)",
     "output_type": "error",
     "traceback": [
      "\u001b[0;31m---------------------------------------------------------------------------\u001b[0m",
      "\u001b[0;31mValueError\u001b[0m                                Traceback (most recent call last)",
      "Cell \u001b[0;32mIn[3], line 2\u001b[0m\n\u001b[1;32m      1\u001b[0m tvae \u001b[39m=\u001b[39m TVAE(config\u001b[39m=\u001b[39mconfig, df\u001b[39m=\u001b[39mx_df, cat_names\u001b[39m=\u001b[39mx_cat_cols, cont_names\u001b[39m=\u001b[39mx_cont_cols)\n\u001b[0;32m----> 2\u001b[0m recon_perf, ood_perf \u001b[39m=\u001b[39m tvae\u001b[39m.\u001b[39;49mtrain_and_evaluate(N\u001b[39m=\u001b[39;49m\u001b[39m10000\u001b[39;49m)\n",
      "File \u001b[0;32m/workspaces/TVAE/tvae/model.py:404\u001b[0m, in \u001b[0;36mTVAE.train_and_evaluate\u001b[0;34m(self, N)\u001b[0m\n\u001b[1;32m    402\u001b[0m \u001b[39mdef\u001b[39;00m \u001b[39mtrain_and_evaluate\u001b[39m(\u001b[39mself\u001b[39m, N\u001b[39m=\u001b[39m\u001b[39m10000\u001b[39m):\n\u001b[1;32m    403\u001b[0m     \u001b[39mself\u001b[39m\u001b[39m.\u001b[39mtrain()\n\u001b[0;32m--> 404\u001b[0m     \u001b[39mreturn\u001b[39;00m \u001b[39mself\u001b[39;49m\u001b[39m.\u001b[39;49mevaluate(N)\n",
      "File \u001b[0;32m/workspaces/TVAE/tvae/model.py:398\u001b[0m, in \u001b[0;36mTVAE.evaluate\u001b[0;34m(self, N)\u001b[0m\n\u001b[1;32m    397\u001b[0m \u001b[39mdef\u001b[39;00m \u001b[39mevaluate\u001b[39m(\u001b[39mself\u001b[39m, N):\n\u001b[0;32m--> 398\u001b[0m     recon_perf \u001b[39m=\u001b[39m \u001b[39mself\u001b[39;49m\u001b[39m.\u001b[39;49m_evaluate_recon_pref()\n\u001b[1;32m    399\u001b[0m     ood_perf \u001b[39m=\u001b[39m \u001b[39mself\u001b[39m\u001b[39m.\u001b[39m_evaluate_ood_perf(N)\n\u001b[1;32m    400\u001b[0m     \u001b[39mreturn\u001b[39;00m recon_perf, ood_perf\n",
      "File \u001b[0;32m/workspaces/TVAE/tvae/model.py:332\u001b[0m, in \u001b[0;36mTVAE._evaluate_recon_pref\u001b[0;34m(self)\u001b[0m\n\u001b[1;32m    331\u001b[0m \u001b[39mdef\u001b[39;00m \u001b[39m_evaluate_recon_pref\u001b[39m(\u001b[39mself\u001b[39m):\n\u001b[0;32m--> 332\u001b[0m     df_dec, cats, conts, dl, outs_enc \u001b[39m=\u001b[39m \u001b[39mself\u001b[39m\u001b[39m.\u001b[39mreconstruct(\u001b[39mself\u001b[39m\u001b[39m.\u001b[39mdf)\n\u001b[1;32m    334\u001b[0m     conts \u001b[39m=\u001b[39m \u001b[39mself\u001b[39m\u001b[39m.\u001b[39m_to_continuous_dataframe(conts)\n\u001b[1;32m    335\u001b[0m     df_d \u001b[39m=\u001b[39m pd\u001b[39m.\u001b[39mconcat([pd\u001b[39m.\u001b[39mDataFrame(cats, columns\u001b[39m=\u001b[39m\u001b[39mself\u001b[39m\u001b[39m.\u001b[39mto\u001b[39m.\u001b[39mcat_names), conts], axis\u001b[39m=\u001b[39m\u001b[39m1\u001b[39m)\n",
      "\u001b[0;31mValueError\u001b[0m: too many values to unpack (expected 5)"
     ]
    }
   ],
   "source": [
    "%%capture\n",
    "tvae = TVAE(config=config, df=x_df, cat_names=x_cat_cols, cont_names=x_cont_cols)\n",
    "recon_perf, ood_perf = tvae.train_and_evaluate(N=10000)"
   ]
  },
  {
   "cell_type": "code",
   "execution_count": null,
   "metadata": {},
   "outputs": [],
   "source": []
  }
 ],
 "metadata": {
  "kernelspec": {
   "display_name": ".venv",
   "language": "python",
   "name": "python3"
  },
  "language_info": {
   "codemirror_mode": {
    "name": "ipython",
    "version": 3
   },
   "file_extension": ".py",
   "mimetype": "text/x-python",
   "name": "python",
   "nbconvert_exporter": "python",
   "pygments_lexer": "ipython3",
   "version": "3.10.4"
  },
  "orig_nbformat": 4,
  "vscode": {
   "interpreter": {
    "hash": "b861360a66e2e365c0294203029108aeb48a11a2f555216fbdbe863f75e58825"
   }
  }
 },
 "nbformat": 4,
 "nbformat_minor": 2
}
